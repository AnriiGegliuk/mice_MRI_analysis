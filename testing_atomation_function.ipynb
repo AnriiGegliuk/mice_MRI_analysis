{
 "cells": [
  {
   "cell_type": "code",
   "execution_count": 4,
   "metadata": {},
   "outputs": [],
   "source": [
    "# importing all necessary libraries\n",
    "\n",
    "import pandas as pd\n",
    "import numpy as np\n",
    "import nibabel as nib\n",
    "import matplotlib.pyplot as plt\n",
    "import scipy.ndimage as ndi\n",
    "from nilearn import plotting\n",
    "import os"
   ]
  },
  {
   "cell_type": "code",
   "execution_count": 5,
   "metadata": {},
   "outputs": [],
   "source": [
    "# creating a function which will take raw data, mask data, new file path\n",
    "\n",
    "def update_header_and_save(raw_filepath, mask_filepath, new_mask_filepath):\n",
    "    raw_img = nib.load(raw_filepath)\n",
    "    mask_img = nib.load(mask_filepath)\n",
    "\n",
    "    # values to be updated\n",
    "    attributes = ['extents', 'dim_info', 'slice_end', 'cal_max', 'cal_min', \n",
    "                  'glmax', 'glmin', 'srow_x', 'srow_y', 'srow_z']\n",
    "\n",
    "    # copying header and updating each val in attributes according to raw_img\n",
    "    header = mask_img.header.copy()\n",
    "    for attr in attributes:\n",
    "        header[attr] = raw_img.header[attr]\n",
    "\n",
    "    # create new vox\n",
    "    new_affine = np.eye(4)\n",
    "    new_affine[:-1, :] = np.array([header['srow_x'], header['srow_y'], header['srow_z']])\n",
    "\n",
    "    # saving an img to new folder\n",
    "    updated_mask_img = nib.Nifti1Image(mask_img.get_fdata(), new_affine, header)\n",
    "    nib.save(updated_mask_img, new_mask_filepath)"
   ]
  },
  {
   "cell_type": "code",
   "execution_count": 6,
   "metadata": {},
   "outputs": [
    {
     "name": "stdout",
     "output_type": "stream",
     "text": [
      "/home/sharapova/test\n"
     ]
    }
   ],
   "source": [
    "# allocating current directory\n",
    "!pwd"
   ]
  },
  {
   "cell_type": "code",
   "execution_count": 7,
   "metadata": {},
   "outputs": [
    {
     "data": {
      "text/plain": [
       "'/home/sharapova/test/new_data'"
      ]
     },
     "execution_count": 7,
     "metadata": {},
     "output_type": "execute_result"
    }
   ],
   "source": [
    "data_dir = '/home/sharapova/test/new_data'\n",
    "data_dir"
   ]
  },
  {
   "cell_type": "code",
   "execution_count": 8,
   "metadata": {},
   "outputs": [
    {
     "name": "stdout",
     "output_type": "stream",
     "text": [
      "/home/sharapova/test/new_data/raw\n",
      "/home/sharapova/test/new_data/mask\n",
      "/home/sharapova/test/new_data/new_mask\n"
     ]
    }
   ],
   "source": [
    "raw_dir = os.path.join(data_dir, 'raw')\n",
    "print(raw_dir)\n",
    "mask_dir = os.path.join(data_dir, 'mask')\n",
    "print(mask_dir)\n",
    "new_mask_dir = os.path.join(data_dir, 'new_mask')\n",
    "print(new_mask_dir)"
   ]
  },
  {
   "cell_type": "code",
   "execution_count": 9,
   "metadata": {},
   "outputs": [
    {
     "data": {
      "text/plain": [
       "['T2_UT172.nii',\n",
       " 'T2_UT169.nii',\n",
       " 'T2_UT175.nii',\n",
       " 'T2_UT226.nii',\n",
       " 'T2_UT225.nii',\n",
       " 'T2_UT171.nii',\n",
       " 'T2_UT223.nii',\n",
       " 'T2_UT354.nii',\n",
       " 'T2_UT356.nii',\n",
       " 'T2_UT173.nii',\n",
       " 'T2_UT224.nii',\n",
       " 'T2_UT230.nii',\n",
       " 'T2_UT170.nii',\n",
       " 'T2_UT168.nii',\n",
       " 'T2_UT376.nii',\n",
       " 'T2_UT227.nii',\n",
       " 'T2_UT174.nii',\n",
       " 'T2_UT229.nii',\n",
       " 'T2_UT228.nii']"
      ]
     },
     "execution_count": 9,
     "metadata": {},
     "output_type": "execute_result"
    }
   ],
   "source": [
    "raw_files = os.listdir(raw_dir)\n",
    "raw_files"
   ]
  },
  {
   "cell_type": "code",
   "execution_count": 12,
   "metadata": {},
   "outputs": [],
   "source": [
    "for raw_file in raw_files:\n",
    "    raw_filepath = os.path.join(raw_dir, raw_file)\n",
    "    mask_filepath = os.path.join(mask_dir, raw_file)\n",
    "    new_mask_filepath = os.path.join(new_mask_dir, os.path.splitext(raw_file)[0] + '_mask.nii')\n",
    "    update_header_and_save(raw_filepath, mask_filepath, new_mask_filepath)"
   ]
  }
 ],
 "metadata": {
  "kernelspec": {
   "display_name": "base",
   "language": "python",
   "name": "python3"
  },
  "language_info": {
   "codemirror_mode": {
    "name": "ipython",
    "version": 3
   },
   "file_extension": ".py",
   "mimetype": "text/x-python",
   "name": "python",
   "nbconvert_exporter": "python",
   "pygments_lexer": "ipython3",
   "version": "3.10.9"
  },
  "orig_nbformat": 4
 },
 "nbformat": 4,
 "nbformat_minor": 2
}
