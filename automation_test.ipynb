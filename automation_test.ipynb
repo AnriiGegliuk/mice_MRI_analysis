{
 "cells": [
  {
   "cell_type": "code",
   "execution_count": 3,
   "metadata": {},
   "outputs": [],
   "source": [
    "import pandas as pd\n",
    "import numpy as np\n",
    "import nibabel as nib\n",
    "import matplotlib.pyplot as plt\n",
    "import scipy.ndimage as ndi\n",
    "from nilearn import plotting\n",
    "import os"
   ]
  },
  {
   "cell_type": "code",
   "execution_count": 2,
   "metadata": {},
   "outputs": [
    {
     "name": "stdout",
     "output_type": "stream",
     "text": [
      "Collecting nilearn\n",
      "  Using cached nilearn-0.10.1-py3-none-any.whl (10.3 MB)\n",
      "Requirement already satisfied: scipy>=1.6.0 in /home/sharapova/.local/lib/python3.10/site-packages (from nilearn) (1.10.1)\n",
      "Requirement already satisfied: requests>=2.25.0 in /home/sharapova/anaconda3/lib/python3.10/site-packages (from nilearn) (2.28.1)\n",
      "Requirement already satisfied: lxml in /home/sharapova/anaconda3/lib/python3.10/site-packages (from nilearn) (4.9.1)\n",
      "Requirement already satisfied: packaging in /home/sharapova/.local/lib/python3.10/site-packages (from nilearn) (23.1)\n",
      "Requirement already satisfied: joblib>=1.0.0 in /home/sharapova/anaconda3/lib/python3.10/site-packages (from nilearn) (1.1.1)\n",
      "Requirement already satisfied: pandas>=1.1.5 in /home/sharapova/.local/lib/python3.10/site-packages (from nilearn) (2.0.1)\n",
      "Requirement already satisfied: nibabel>=3.2.0 in /home/sharapova/.local/lib/python3.10/site-packages (from nilearn) (5.1.0)\n",
      "Requirement already satisfied: scikit-learn>=1.0.0 in /home/sharapova/anaconda3/lib/python3.10/site-packages (from nilearn) (1.2.1)\n",
      "Requirement already satisfied: numpy>=1.19.0 in /home/sharapova/anaconda3/lib/python3.10/site-packages (from nilearn) (1.23.5)\n",
      "Requirement already satisfied: pytz>=2020.1 in /home/sharapova/.local/lib/python3.10/site-packages (from pandas>=1.1.5->nilearn) (2023.3)\n",
      "Requirement already satisfied: python-dateutil>=2.8.2 in /home/sharapova/.local/lib/python3.10/site-packages (from pandas>=1.1.5->nilearn) (2.8.2)\n",
      "Requirement already satisfied: tzdata>=2022.1 in /home/sharapova/.local/lib/python3.10/site-packages (from pandas>=1.1.5->nilearn) (2023.3)\n",
      "Requirement already satisfied: urllib3<1.27,>=1.21.1 in /home/sharapova/anaconda3/lib/python3.10/site-packages (from requests>=2.25.0->nilearn) (1.26.14)\n",
      "Requirement already satisfied: certifi>=2017.4.17 in /home/sharapova/anaconda3/lib/python3.10/site-packages (from requests>=2.25.0->nilearn) (2022.12.7)\n",
      "Requirement already satisfied: charset-normalizer<3,>=2 in /home/sharapova/anaconda3/lib/python3.10/site-packages (from requests>=2.25.0->nilearn) (2.0.4)\n",
      "Requirement already satisfied: idna<4,>=2.5 in /home/sharapova/anaconda3/lib/python3.10/site-packages (from requests>=2.25.0->nilearn) (3.4)\n",
      "Requirement already satisfied: threadpoolctl>=2.0.0 in /home/sharapova/anaconda3/lib/python3.10/site-packages (from scikit-learn>=1.0.0->nilearn) (2.2.0)\n",
      "Requirement already satisfied: six>=1.5 in /home/sharapova/anaconda3/lib/python3.10/site-packages (from python-dateutil>=2.8.2->pandas>=1.1.5->nilearn) (1.16.0)\n",
      "Installing collected packages: nilearn\n",
      "Successfully installed nilearn-0.10.1\n"
     ]
    }
   ],
   "source": [
    "!pip install nilearn"
   ]
  },
  {
   "cell_type": "code",
   "execution_count": 4,
   "metadata": {},
   "outputs": [
    {
     "data": {
      "text/plain": [
       "<nibabel.nifti1.Nifti1Image at 0x7f7b89b801f0>"
      ]
     },
     "execution_count": 4,
     "metadata": {},
     "output_type": "execute_result"
    }
   ],
   "source": [
    "# importing data\n",
    "\n",
    "# raw img\n",
    "raw_img = nib.load(\"data/raw/T2_UT169.nii\")\n",
    "raw_img\n",
    "\n",
    "# mask img\n",
    "mask_img = nib.load('data/mask/T2_UT169.nii')\n",
    "mask_img"
   ]
  },
  {
   "cell_type": "code",
   "execution_count": 5,
   "metadata": {},
   "outputs": [
    {
     "name": "stdout",
     "output_type": "stream",
     "text": [
      "<class 'nibabel.nifti1.Nifti1Header'> object, endian='<'\n",
      "sizeof_hdr      : 348\n",
      "data_type       : b''\n",
      "db_name         : b''\n",
      "extents         : 16384\n",
      "session_error   : 0\n",
      "regular         : b'r'\n",
      "dim_info        : 54\n",
      "dim             : [  3 128 160  96   0   0   0   0]\n",
      "intent_p1       : 0.0\n",
      "intent_p2       : 0.0\n",
      "intent_p3       : 0.0\n",
      "intent_code     : none\n",
      "datatype        : int16\n",
      "bitpix          : 16\n",
      "slice_start     : 0\n",
      "pixdim          : [1.  0.1 0.1 0.1 0.  0.  0.  0. ]\n",
      "vox_offset      : 0.0\n",
      "scl_slope       : nan\n",
      "scl_inter       : nan\n",
      "slice_end       : 95\n",
      "slice_code      : unknown\n",
      "xyzt_units      : 2\n",
      "cal_max         : 32766.0\n",
      "cal_min         : 7.0\n",
      "slice_duration  : 0.0\n",
      "toffset         : 0.0\n",
      "glmax           : 32767\n",
      "glmin           : -32768\n",
      "descrip         : b'Keio_Abeyoshifumi/20221103_UT169_silocin/4/4'\n",
      "aux_file        : b''\n",
      "qform_code      : scanner\n",
      "sform_code      : aligned\n",
      "quatern_b       : -0.70710677\n",
      "quatern_c       : -2.1648902e-17\n",
      "quatern_d       : 2.1648902e-17\n",
      "qoffset_x       : -7.397624\n",
      "qoffset_y       : -4.417459\n",
      "qoffset_z       : 7.382423\n",
      "srow_x          : [  1.        0.        0.      -67.38439]\n",
      "srow_y          : [ 0.         -0.9928086   0.11971229 56.40406   ]\n",
      "srow_z          : [ 0.         -0.11971223 -0.9928086  16.708168  ]\n",
      "intent_name     : b''\n",
      "magic           : b'n+1'\n"
     ]
    }
   ],
   "source": [
    "print(raw_img.header)"
   ]
  },
  {
   "cell_type": "code",
   "execution_count": 6,
   "metadata": {},
   "outputs": [
    {
     "name": "stdout",
     "output_type": "stream",
     "text": [
      "<class 'nibabel.nifti1.Nifti1Header'> object, endian='<'\n",
      "sizeof_hdr      : 348\n",
      "data_type       : b''\n",
      "db_name         : b''\n",
      "extents         : 0\n",
      "session_error   : 0\n",
      "regular         : b'r'\n",
      "dim_info        : 0\n",
      "dim             : [  3 128 160  96   1   1   1   1]\n",
      "intent_p1       : 0.0\n",
      "intent_p2       : 0.0\n",
      "intent_p3       : 0.0\n",
      "intent_code     : none\n",
      "datatype        : float64\n",
      "bitpix          : 64\n",
      "slice_start     : 0\n",
      "pixdim          : [1.  0.1 0.1 0.1 0.  0.  0.  0. ]\n",
      "vox_offset      : 0.0\n",
      "scl_slope       : nan\n",
      "scl_inter       : nan\n",
      "slice_end       : 0\n",
      "slice_code      : unknown\n",
      "xyzt_units      : 2\n",
      "cal_max         : 0.0\n",
      "cal_min         : 0.0\n",
      "slice_duration  : 0.0\n",
      "toffset         : 0.0\n",
      "glmax           : 0\n",
      "glmin           : 0\n",
      "descrip         : b''\n",
      "aux_file        : b''\n",
      "qform_code      : scanner\n",
      "sform_code      : scanner\n",
      "quatern_b       : -0.70710677\n",
      "quatern_c       : -2.1648903e-17\n",
      "quatern_d       : 2.1648903e-17\n",
      "qoffset_x       : -7.397624\n",
      "qoffset_y       : -4.417459\n",
      "qoffset_z       : 7.382423\n",
      "srow_x          : [ 1.0000000e-01 -1.0479469e-25 -6.1232343e-18 -7.3976240e+00]\n",
      "srow_y          : [ 6.1232343e-18  3.4228542e-09  1.0000000e-01 -4.4174590e+00]\n",
      "srow_z          : [ 1.0479469e-25 -1.0000000e-01  3.4228542e-09  7.3824229e+00]\n",
      "intent_name     : b''\n",
      "magic           : b'n+1'\n"
     ]
    }
   ],
   "source": [
    "print(mask_img.header)"
   ]
  },
  {
   "cell_type": "code",
   "execution_count": 21,
   "metadata": {},
   "outputs": [],
   "source": [
    "mask_before = mask_img.get_fdata()"
   ]
  },
  {
   "cell_type": "code",
   "execution_count": 22,
   "metadata": {},
   "outputs": [
    {
     "data": {
      "image/png": "[encoded data removed]",
      "text/plain": [
       "<Figure size 1000x1000 with 16 Axes>"
      ]
     },
     "metadata": {},
     "output_type": "display_data"
    }
   ],
   "source": [
    "fig_rows = 4\n",
    "fig_cols = 4\n",
    "n_subplots = fig_rows * fig_cols\n",
    "n_slice = mask_before.shape[0]\n",
    "step_size = n_slice // n_subplots\n",
    "plot_range = n_subplots * step_size\n",
    "start_stop = int((n_slice - plot_range) / 2)\n",
    "\n",
    "fig, axs = plt.subplots(fig_rows, fig_cols, figsize=[10, 10])\n",
    "\n",
    "for idx, img in enumerate(range(start_stop, plot_range, step_size)):\n",
    "    axs.flat[idx].imshow(ndi.rotate(mask_before[img, :, :], 90), cmap='gray')\n",
    "    axs.flat[idx].axis('off')\n",
    "        \n",
    "plt.tight_layout()\n",
    "plt.show()"
   ]
  },
  {
   "cell_type": "code",
   "execution_count": 8,
   "metadata": {},
   "outputs": [
    {
     "name": "stdout",
     "output_type": "stream",
     "text": [
      "<class 'nibabel.nifti1.Nifti1Header'> object, endian='<'\n",
      "sizeof_hdr      : 348\n",
      "data_type       : b''\n",
      "db_name         : b''\n",
      "extents         : 0\n",
      "session_error   : 0\n",
      "regular         : b'r'\n",
      "dim_info        : 0\n",
      "dim             : [  3 128 160  96   1   1   1   1]\n",
      "intent_p1       : 0.0\n",
      "intent_p2       : 0.0\n",
      "intent_p3       : 0.0\n",
      "intent_code     : none\n",
      "datatype        : float64\n",
      "bitpix          : 64\n",
      "slice_start     : 0\n",
      "pixdim          : [1.  0.1 0.1 0.1 0.  0.  0.  0. ]\n",
      "vox_offset      : 0.0\n",
      "scl_slope       : nan\n",
      "scl_inter       : nan\n",
      "slice_end       : 0\n",
      "slice_code      : unknown\n",
      "xyzt_units      : 2\n",
      "cal_max         : 0.0\n",
      "cal_min         : 0.0\n",
      "slice_duration  : 0.0\n",
      "toffset         : 0.0\n",
      "glmax           : 0\n",
      "glmin           : 0\n",
      "descrip         : b''\n",
      "aux_file        : b''\n",
      "qform_code      : scanner\n",
      "sform_code      : scanner\n",
      "quatern_b       : -0.70710677\n",
      "quatern_c       : -2.1648903e-17\n",
      "quatern_d       : 2.1648903e-17\n",
      "qoffset_x       : -7.397624\n",
      "qoffset_y       : -4.417459\n",
      "qoffset_z       : 7.382423\n",
      "srow_x          : [ 1.0000000e-01 -1.0479469e-25 -6.1232343e-18 -7.3976240e+00]\n",
      "srow_y          : [ 6.1232343e-18  3.4228542e-09  1.0000000e-01 -4.4174590e+00]\n",
      "srow_z          : [ 1.0479469e-25 -1.0000000e-01  3.4228542e-09  7.3824229e+00]\n",
      "intent_name     : b''\n",
      "magic           : b'n+1'\n"
     ]
    }
   ],
   "source": [
    "header = mask_img.header\n",
    "print(header)"
   ]
  },
  {
   "cell_type": "code",
   "execution_count": 10,
   "metadata": {},
   "outputs": [
    {
     "name": "stdout",
     "output_type": "stream",
     "text": [
      "<class 'nibabel.nifti1.Nifti1Header'> object, endian='<'\n",
      "sizeof_hdr      : 348\n",
      "data_type       : b''\n",
      "db_name         : b''\n",
      "extents         : 16384\n",
      "session_error   : 0\n",
      "regular         : b'r'\n",
      "dim_info        : 0\n",
      "dim             : [  3 128 160  96   1   1   1   1]\n",
      "intent_p1       : 0.0\n",
      "intent_p2       : 0.0\n",
      "intent_p3       : 0.0\n",
      "intent_code     : none\n",
      "datatype        : float64\n",
      "bitpix          : 64\n",
      "slice_start     : 0\n",
      "pixdim          : [1.  0.1 0.1 0.1 0.  0.  0.  0. ]\n",
      "vox_offset      : 0.0\n",
      "scl_slope       : nan\n",
      "scl_inter       : nan\n",
      "slice_end       : 0\n",
      "slice_code      : unknown\n",
      "xyzt_units      : 2\n",
      "cal_max         : 0.0\n",
      "cal_min         : 0.0\n",
      "slice_duration  : 0.0\n",
      "toffset         : 0.0\n",
      "glmax           : 0\n",
      "glmin           : 0\n",
      "descrip         : b''\n",
      "aux_file        : b''\n",
      "qform_code      : scanner\n",
      "sform_code      : scanner\n",
      "quatern_b       : -0.70710677\n",
      "quatern_c       : -2.1648903e-17\n",
      "quatern_d       : 2.1648903e-17\n",
      "qoffset_x       : -7.397624\n",
      "qoffset_y       : -4.417459\n",
      "qoffset_z       : 7.382423\n",
      "srow_x          : [ 1.0000000e-01 -1.0479469e-25 -6.1232343e-18 -7.3976240e+00]\n",
      "srow_y          : [ 6.1232343e-18  3.4228542e-09  1.0000000e-01 -4.4174590e+00]\n",
      "srow_z          : [ 1.0479469e-25 -1.0000000e-01  3.4228542e-09  7.3824229e+00]\n",
      "intent_name     : b''\n",
      "magic           : b'n+1'\n"
     ]
    }
   ],
   "source": [
    "header['extents'] = raw_img.header['extents']\n",
    "print(header)"
   ]
  },
  {
   "cell_type": "code",
   "execution_count": 11,
   "metadata": {},
   "outputs": [],
   "source": [
    "header['dim_info'] = raw_img.header['dim_info']\n",
    "header['slice_end'] = raw_img.header['slice_end']\n",
    "header['cal_max'] = raw_img.header['cal_max']\n",
    "header['cal_min'] = raw_img.header['cal_min']\n",
    "header['glmax'] = raw_img.header['glmax']\n",
    "header['glmin'] = raw_img.header['glmin']\n",
    "\n",
    "srow_x = raw_img.header['srow_x']\n",
    "srow_y = raw_img.header['srow_y']\n",
    "srow_z = raw_img.header['srow_z']\n",
    "\n",
    "\n",
    "header['srow_x'] = srow_x\n",
    "header['srow_y'] = srow_y\n",
    "header['srow_z'] = srow_z"
   ]
  },
  {
   "cell_type": "code",
   "execution_count": 12,
   "metadata": {},
   "outputs": [
    {
     "name": "stdout",
     "output_type": "stream",
     "text": [
      "<class 'nibabel.nifti1.Nifti1Header'> object, endian='<'\n",
      "sizeof_hdr      : 348\n",
      "data_type       : b''\n",
      "db_name         : b''\n",
      "extents         : 16384\n",
      "session_error   : 0\n",
      "regular         : b'r'\n",
      "dim_info        : 54\n",
      "dim             : [  3 128 160  96   1   1   1   1]\n",
      "intent_p1       : 0.0\n",
      "intent_p2       : 0.0\n",
      "intent_p3       : 0.0\n",
      "intent_code     : none\n",
      "datatype        : float64\n",
      "bitpix          : 64\n",
      "slice_start     : 0\n",
      "pixdim          : [1.  0.1 0.1 0.1 0.  0.  0.  0. ]\n",
      "vox_offset      : 0.0\n",
      "scl_slope       : nan\n",
      "scl_inter       : nan\n",
      "slice_end       : 95\n",
      "slice_code      : unknown\n",
      "xyzt_units      : 2\n",
      "cal_max         : 32766.0\n",
      "cal_min         : 7.0\n",
      "slice_duration  : 0.0\n",
      "toffset         : 0.0\n",
      "glmax           : 32767\n",
      "glmin           : -32768\n",
      "descrip         : b''\n",
      "aux_file        : b''\n",
      "qform_code      : scanner\n",
      "sform_code      : scanner\n",
      "quatern_b       : -0.70710677\n",
      "quatern_c       : -2.1648903e-17\n",
      "quatern_d       : 2.1648903e-17\n",
      "qoffset_x       : -7.397624\n",
      "qoffset_y       : -4.417459\n",
      "qoffset_z       : 7.382423\n",
      "srow_x          : [  1.        0.        0.      -67.38439]\n",
      "srow_y          : [ 0.         -0.9928086   0.11971229 56.40406   ]\n",
      "srow_z          : [ 0.         -0.11971223 -0.9928086  16.708168  ]\n",
      "intent_name     : b''\n",
      "magic           : b'n+1'\n"
     ]
    }
   ],
   "source": [
    "print(header)"
   ]
  },
  {
   "cell_type": "code",
   "execution_count": 13,
   "metadata": {},
   "outputs": [
    {
     "data": {
      "text/plain": [
       "array([[  1.        ,   0.        ,   0.        , -67.38439178],\n",
       "       [  0.        ,  -0.99280858,   0.11971229,  56.40406036],\n",
       "       [  0.        ,  -0.11971223,  -0.99280858,  16.70816803],\n",
       "       [  0.        ,   0.        ,   0.        ,   1.        ]])"
      ]
     },
     "execution_count": 13,
     "metadata": {},
     "output_type": "execute_result"
    }
   ],
   "source": [
    "# create new dimensions\n",
    "new_affine = np.eye(4)\n",
    "new_affine[0, :] = header['srow_x']\n",
    "new_affine[1, :] = header['srow_y']\n",
    "new_affine[2, :] = header['srow_z']\n",
    "\n",
    "new_affine"
   ]
  },
  {
   "cell_type": "code",
   "execution_count": 14,
   "metadata": {},
   "outputs": [],
   "source": [
    "updated_mask_img = nib.Nifti1Image(mask_img.get_fdata(), new_affine, header)"
   ]
  },
  {
   "cell_type": "code",
   "execution_count": 15,
   "metadata": {},
   "outputs": [
    {
     "name": "stdout",
     "output_type": "stream",
     "text": [
      "<class 'nibabel.nifti1.Nifti1Header'> object, endian='<'\n",
      "sizeof_hdr      : 348\n",
      "data_type       : b''\n",
      "db_name         : b''\n",
      "extents         : 16384\n",
      "session_error   : 0\n",
      "regular         : b'r'\n",
      "dim_info        : 54\n",
      "dim             : [  3 128 160  96   1   1   1   1]\n",
      "intent_p1       : 0.0\n",
      "intent_p2       : 0.0\n",
      "intent_p3       : 0.0\n",
      "intent_code     : none\n",
      "datatype        : float64\n",
      "bitpix          : 64\n",
      "slice_start     : 0\n",
      "pixdim          : [1.  0.1 0.1 0.1 0.  0.  0.  0. ]\n",
      "vox_offset      : 0.0\n",
      "scl_slope       : nan\n",
      "scl_inter       : nan\n",
      "slice_end       : 95\n",
      "slice_code      : unknown\n",
      "xyzt_units      : 2\n",
      "cal_max         : 32766.0\n",
      "cal_min         : 7.0\n",
      "slice_duration  : 0.0\n",
      "toffset         : 0.0\n",
      "glmax           : 32767\n",
      "glmin           : -32768\n",
      "descrip         : b''\n",
      "aux_file        : b''\n",
      "qform_code      : scanner\n",
      "sform_code      : scanner\n",
      "quatern_b       : -0.70710677\n",
      "quatern_c       : -2.1648903e-17\n",
      "quatern_d       : 2.1648903e-17\n",
      "qoffset_x       : -7.397624\n",
      "qoffset_y       : -4.417459\n",
      "qoffset_z       : 7.382423\n",
      "srow_x          : [  1.        0.        0.      -67.38439]\n",
      "srow_y          : [ 0.         -0.9928086   0.11971229 56.40406   ]\n",
      "srow_z          : [ 0.         -0.11971223 -0.9928086  16.708168  ]\n",
      "intent_name     : b''\n",
      "magic           : b'n+1'\n"
     ]
    }
   ],
   "source": [
    "print(updated_mask_img.header)"
   ]
  },
  {
   "cell_type": "code",
   "execution_count": 16,
   "metadata": {},
   "outputs": [],
   "source": [
    "nib.save(updated_mask_img, 'new_mask_for_169.nii')"
   ]
  },
  {
   "cell_type": "code",
   "execution_count": 18,
   "metadata": {},
   "outputs": [],
   "source": [
    "new_mas_img = updated_mask_img.get_fdata()"
   ]
  },
  {
   "cell_type": "code",
   "execution_count": 19,
   "metadata": {},
   "outputs": [
    {
     "data": {
      "image/png": "[encoded data removed]",
      "text/plain": [
       "<Figure size 1000x1000 with 16 Axes>"
      ]
     },
     "metadata": {},
     "output_type": "display_data"
    }
   ],
   "source": [
    "fig_rows = 4\n",
    "fig_cols = 4\n",
    "n_subplots = fig_rows * fig_cols\n",
    "n_slice = new_mas_img.shape[0]\n",
    "step_size = n_slice // n_subplots\n",
    "plot_range = n_subplots * step_size\n",
    "start_stop = int((n_slice - plot_range) / 2)\n",
    "\n",
    "fig, axs = plt.subplots(fig_rows, fig_cols, figsize=[10, 10])\n",
    "\n",
    "for idx, img in enumerate(range(start_stop, plot_range, step_size)):\n",
    "    axs.flat[idx].imshow(ndi.rotate(new_mas_img[img, :, :], 90), cmap='gray')\n",
    "    axs.flat[idx].axis('off')\n",
    "        \n",
    "plt.tight_layout()\n",
    "plt.show()"
   ]
  }
 ],
 "metadata": {
  "kernelspec": {
   "display_name": "base",
   "language": "python",
   "name": "python3"
  },
  "language_info": {
   "codemirror_mode": {
    "name": "ipython",
    "version": 3
   },
   "file_extension": ".py",
   "mimetype": "text/x-python",
   "name": "python",
   "nbconvert_exporter": "python",
   "pygments_lexer": "ipython3",
   "version": "3.10.9"
  },
  "orig_nbformat": 4
 },
 "nbformat": 4,
 "nbformat_minor": 2
}
