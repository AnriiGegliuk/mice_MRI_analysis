{
 "cells": [
  {
   "cell_type": "code",
   "execution_count": 198,
   "metadata": {},
   "outputs": [],
   "source": [
    "import pandas as pd\n",
    "import numpy as np"
   ]
  },
  {
   "cell_type": "code",
   "execution_count": 199,
   "metadata": {},
   "outputs": [
    {
     "name": "stdout",
     "output_type": "stream",
     "text": [
      "Requirement already satisfied: nibabel in /home/sharapova/.local/lib/python3.10/site-packages (5.1.0)\n",
      "Requirement already satisfied: numpy>=1.19 in /home/sharapova/.local/lib/python3.10/site-packages (from nibabel) (1.24.3)\n",
      "Requirement already satisfied: packaging>=17 in /home/sharapova/.local/lib/python3.10/site-packages (from nibabel) (23.1)\n"
     ]
    }
   ],
   "source": [
    "!pip install nibabel"
   ]
  },
  {
   "cell_type": "code",
   "execution_count": 200,
   "metadata": {},
   "outputs": [
    {
     "name": "stdout",
     "output_type": "stream",
     "text": [
      "Requirement already satisfied: scipy in /home/sharapova/.local/lib/python3.10/site-packages (1.10.1)\n",
      "Requirement already satisfied: numpy<1.27.0,>=1.19.5 in /home/sharapova/.local/lib/python3.10/site-packages (from scipy) (1.24.3)\n"
     ]
    }
   ],
   "source": [
    "!pip install scipy"
   ]
  },
  {
   "cell_type": "code",
   "execution_count": 201,
   "metadata": {},
   "outputs": [],
   "source": [
    "import nibabel as nib\n",
    "import matplotlib.pyplot as plt\n",
    "import scipy.ndimage as ndi\n",
    "import os"
   ]
  },
  {
   "cell_type": "code",
   "execution_count": 202,
   "metadata": {},
   "outputs": [
    {
     "data": {
      "text/plain": [
       "<nibabel.nifti1.Nifti1Image at 0x7fab77800370>"
      ]
     },
     "execution_count": 202,
     "metadata": {},
     "output_type": "execute_result"
    }
   ],
   "source": [
    "# importing nii file\n",
    "\n",
    "image = nib.load(\"data/raw/T2_UT168.nii\")\n",
    "image"
   ]
  },
  {
   "cell_type": "code",
   "execution_count": 203,
   "metadata": {},
   "outputs": [
    {
     "name": "stdout",
     "output_type": "stream",
     "text": [
      "<class 'nibabel.nifti1.Nifti1Header'> object, endian='<'\n",
      "sizeof_hdr      : 348\n",
      "data_type       : b''\n",
      "db_name         : b''\n",
      "extents         : 16384\n",
      "session_error   : 0\n",
      "regular         : b'r'\n",
      "dim_info        : 54\n",
      "dim             : [  3 128 160  96   0   0   0   0]\n",
      "intent_p1       : 0.0\n",
      "intent_p2       : 0.0\n",
      "intent_p3       : 0.0\n",
      "intent_code     : none\n",
      "datatype        : int16\n",
      "bitpix          : 16\n",
      "slice_start     : 0\n",
      "pixdim          : [1.  0.1 0.1 0.1 0.  0.  0.  0. ]\n",
      "vox_offset      : 0.0\n",
      "scl_slope       : nan\n",
      "scl_inter       : nan\n",
      "slice_end       : 95\n",
      "slice_code      : unknown\n",
      "xyzt_units      : 2\n",
      "cal_max         : 32766.0\n",
      "cal_min         : 2.0\n",
      "slice_duration  : 0.0\n",
      "toffset         : 0.0\n",
      "glmax           : 32767\n",
      "glmin           : -32768\n",
      "descrip         : b'Keio_Abeyoshifumi/20221103_UT168_silocin/5/4'\n",
      "aux_file        : b''\n",
      "qform_code      : scanner\n",
      "sform_code      : aligned\n",
      "quatern_b       : -0.70710677\n",
      "quatern_c       : -2.1648902e-17\n",
      "quatern_d       : 2.1648902e-17\n",
      "qoffset_x       : -6.75533\n",
      "qoffset_y       : -5.663706\n",
      "qoffset_z       : 6.88325\n",
      "srow_x          : [ 9.8942393e-01  3.9598107e-02 -1.3954318e-01 -6.1136059e+01]\n",
      "srow_y          : [ 2.1576822e-02 -9.9149215e-01 -1.2836576e-01  7.0611824e+01]\n",
      "srow_z          : [-0.14343894  0.12399727 -0.9818604   4.598442  ]\n",
      "intent_name     : b''\n",
      "magic           : b'n+1'\n"
     ]
    }
   ],
   "source": [
    "# reading data\n",
    "print(image.header)"
   ]
  },
  {
   "cell_type": "code",
   "execution_count": 204,
   "metadata": {},
   "outputs": [
    {
     "data": {
      "text/plain": [
       "<nibabel.nifti1.Nifti1Image at 0x7fab78205cf0>"
      ]
     },
     "execution_count": 204,
     "metadata": {},
     "output_type": "execute_result"
    }
   ],
   "source": [
    "mask = nib.load('data/mask/T2_UT168.nii')\n",
    "mask"
   ]
  },
  {
   "cell_type": "code",
   "execution_count": 205,
   "metadata": {},
   "outputs": [
    {
     "name": "stdout",
     "output_type": "stream",
     "text": [
      "<class 'nibabel.nifti1.Nifti1Header'> object, endian='<'\n",
      "sizeof_hdr      : 348\n",
      "data_type       : b''\n",
      "db_name         : b''\n",
      "extents         : 0\n",
      "session_error   : 0\n",
      "regular         : b'r'\n",
      "dim_info        : 0\n",
      "dim             : [  3 128 160  96   1   1   1   1]\n",
      "intent_p1       : 0.0\n",
      "intent_p2       : 0.0\n",
      "intent_p3       : 0.0\n",
      "intent_code     : none\n",
      "datatype        : float64\n",
      "bitpix          : 64\n",
      "slice_start     : 0\n",
      "pixdim          : [1.  0.1 0.1 0.1 0.  0.  0.  0. ]\n",
      "vox_offset      : 0.0\n",
      "scl_slope       : nan\n",
      "scl_inter       : nan\n",
      "slice_end       : 0\n",
      "slice_code      : unknown\n",
      "xyzt_units      : 2\n",
      "cal_max         : 0.0\n",
      "cal_min         : 0.0\n",
      "slice_duration  : 0.0\n",
      "toffset         : 0.0\n",
      "glmax           : 0\n",
      "glmin           : 0\n",
      "descrip         : b''\n",
      "aux_file        : b''\n",
      "qform_code      : scanner\n",
      "sform_code      : scanner\n",
      "quatern_b       : -0.70710677\n",
      "quatern_c       : -2.1648903e-17\n",
      "quatern_d       : 2.1648903e-17\n",
      "qoffset_x       : -6.75533\n",
      "qoffset_y       : -5.663706\n",
      "qoffset_z       : 6.88325\n",
      "srow_x          : [ 1.0000000e-01 -1.0479469e-25 -6.1232343e-18 -6.7553301e+00]\n",
      "srow_y          : [ 6.1232343e-18  3.4228542e-09  1.0000000e-01 -5.6637058e+00]\n",
      "srow_z          : [ 1.0479469e-25 -1.0000000e-01  3.4228542e-09  6.8832502e+00]\n",
      "intent_name     : b''\n",
      "magic           : b'n+1'\n"
     ]
    }
   ],
   "source": [
    "print(mask.header)"
   ]
  },
  {
   "cell_type": "code",
   "execution_count": 206,
   "metadata": {},
   "outputs": [
    {
     "data": {
      "text/plain": [
       "['resampled', 'raw', 'mask', 'matlab_raw_mask']"
      ]
     },
     "execution_count": 206,
     "metadata": {},
     "output_type": "execute_result"
    }
   ],
   "source": [
    "os.listdir('data')"
   ]
  },
  {
   "cell_type": "code",
   "execution_count": 207,
   "metadata": {},
   "outputs": [
    {
     "data": {
      "text/plain": [
       "numpy.ndarray"
      ]
     },
     "execution_count": 207,
     "metadata": {},
     "output_type": "execute_result"
    }
   ],
   "source": [
    "brain_vol_data = image.get_fdata()\n",
    "type(brain_vol_data)"
   ]
  },
  {
   "cell_type": "code",
   "execution_count": 208,
   "metadata": {},
   "outputs": [
    {
     "data": {
      "text/plain": [
       "(128, 160, 96)"
      ]
     },
     "execution_count": 208,
     "metadata": {},
     "output_type": "execute_result"
    }
   ],
   "source": [
    "brain_vol_data.shape"
   ]
  },
  {
   "cell_type": "code",
   "execution_count": 249,
   "metadata": {},
   "outputs": [
    {
     "data": {
      "image/png": "[encoded data removed]",
      "text/plain": [
       "<Figure size 640x480 with 1 Axes>"
      ]
     },
     "metadata": {},
     "output_type": "display_data"
    }
   ],
   "source": [
    "plt.imshow(ndi.rotate(brain_vol_data[90], -90), cmap='bone')\n",
    "plt.axis('off')\n",
    "plt.show()"
   ]
  },
  {
   "cell_type": "code",
   "execution_count": 247,
   "metadata": {},
   "outputs": [
    {
     "data": {
      "image/png": "[encoded data removed]",
      "text/plain": [
       "<Figure size 640x480 with 1 Axes>"
      ]
     },
     "metadata": {},
     "output_type": "display_data"
    }
   ],
   "source": [
    "plt.imshow(brain_vol_data[95], cmap='bone')\n",
    "plt.axis('off')\n",
    "plt.show()"
   ]
  },
  {
   "cell_type": "code",
   "execution_count": 210,
   "metadata": {},
   "outputs": [
    {
     "name": "stdout",
     "output_type": "stream",
     "text": [
      "Requirement already satisfied: nilearn in /home/sharapova/anaconda3/envs/mribase/lib/python3.10/site-packages (0.10.1)\n",
      "Requirement already satisfied: numpy>=1.19.0 in /home/sharapova/.local/lib/python3.10/site-packages (from nilearn) (1.24.3)\n",
      "Requirement already satisfied: scikit-learn>=1.0.0 in /home/sharapova/anaconda3/envs/mribase/lib/python3.10/site-packages (from nilearn) (1.2.2)\n",
      "Requirement already satisfied: lxml in /home/sharapova/anaconda3/envs/mribase/lib/python3.10/site-packages (from nilearn) (4.9.2)\n",
      "Requirement already satisfied: scipy>=1.6.0 in /home/sharapova/.local/lib/python3.10/site-packages (from nilearn) (1.10.1)\n",
      "Requirement already satisfied: requests>=2.25.0 in /home/sharapova/anaconda3/envs/mribase/lib/python3.10/site-packages (from nilearn) (2.28.2)\n",
      "Requirement already satisfied: packaging in /home/sharapova/.local/lib/python3.10/site-packages (from nilearn) (23.1)\n",
      "Requirement already satisfied: pandas>=1.1.5 in /home/sharapova/.local/lib/python3.10/site-packages (from nilearn) (2.0.1)\n",
      "Requirement already satisfied: nibabel>=3.2.0 in /home/sharapova/.local/lib/python3.10/site-packages (from nilearn) (5.1.0)\n",
      "Requirement already satisfied: joblib>=1.0.0 in /home/sharapova/anaconda3/envs/mribase/lib/python3.10/site-packages (from nilearn) (1.2.0)\n",
      "Requirement already satisfied: tzdata>=2022.1 in /home/sharapova/.local/lib/python3.10/site-packages (from pandas>=1.1.5->nilearn) (2023.3)\n",
      "Requirement already satisfied: python-dateutil>=2.8.2 in /home/sharapova/.local/lib/python3.10/site-packages (from pandas>=1.1.5->nilearn) (2.8.2)\n",
      "Requirement already satisfied: pytz>=2020.1 in /home/sharapova/.local/lib/python3.10/site-packages (from pandas>=1.1.5->nilearn) (2023.3)\n",
      "Requirement already satisfied: urllib3<1.27,>=1.21.1 in /home/sharapova/anaconda3/envs/mribase/lib/python3.10/site-packages (from requests>=2.25.0->nilearn) (1.26.15)\n",
      "Requirement already satisfied: idna<4,>=2.5 in /home/sharapova/anaconda3/envs/mribase/lib/python3.10/site-packages (from requests>=2.25.0->nilearn) (3.4)\n",
      "Requirement already satisfied: certifi>=2017.4.17 in /home/sharapova/anaconda3/envs/mribase/lib/python3.10/site-packages (from requests>=2.25.0->nilearn) (2022.12.7)\n",
      "Requirement already satisfied: charset-normalizer<4,>=2 in /home/sharapova/anaconda3/envs/mribase/lib/python3.10/site-packages (from requests>=2.25.0->nilearn) (3.1.0)\n",
      "Requirement already satisfied: threadpoolctl>=2.0.0 in /home/sharapova/anaconda3/envs/mribase/lib/python3.10/site-packages (from scikit-learn>=1.0.0->nilearn) (3.1.0)\n",
      "Requirement already satisfied: six>=1.5 in /home/sharapova/anaconda3/envs/mribase/lib/python3.10/site-packages (from python-dateutil>=2.8.2->pandas>=1.1.5->nilearn) (1.16.0)\n"
     ]
    }
   ],
   "source": [
    "!pip install nilearn"
   ]
  },
  {
   "cell_type": "code",
   "execution_count": 211,
   "metadata": {},
   "outputs": [
    {
     "data": {
      "image/png": "[encoded data removed]",
      "text/plain": [
       "<Figure size 660x260 with 4 Axes>"
      ]
     },
     "metadata": {},
     "output_type": "display_data"
    }
   ],
   "source": [
    "from nilearn import plotting\n",
    "\n",
    "# raw data image\n",
    "plotting.plot_img(image)\n",
    "plt.show()"
   ]
  },
  {
   "cell_type": "code",
   "execution_count": 212,
   "metadata": {},
   "outputs": [
    {
     "data": {
      "text/plain": [
       "numpy.memmap"
      ]
     },
     "execution_count": 212,
     "metadata": {},
     "output_type": "execute_result"
    }
   ],
   "source": [
    "brain_mask_data = mask.get_fdata()\n",
    "type(brain_mask_data)"
   ]
  },
  {
   "cell_type": "code",
   "execution_count": 213,
   "metadata": {},
   "outputs": [
    {
     "data": {
      "text/plain": [
       "(128, 160, 96)"
      ]
     },
     "execution_count": 213,
     "metadata": {},
     "output_type": "execute_result"
    }
   ],
   "source": [
    "brain_mask_data.shape"
   ]
  },
  {
   "cell_type": "code",
   "execution_count": 214,
   "metadata": {},
   "outputs": [
    {
     "data": {
      "text/plain": [
       "True"
      ]
     },
     "execution_count": 214,
     "metadata": {},
     "output_type": "execute_result"
    }
   ],
   "source": [
    "brain_mask_data.shape == brain_vol_data.shape"
   ]
  },
  {
   "cell_type": "code",
   "execution_count": 250,
   "metadata": {},
   "outputs": [
    {
     "data": {
      "image/png": "[encoded data removed]",
      "text/plain": [
       "<Figure size 640x480 with 1 Axes>"
      ]
     },
     "metadata": {},
     "output_type": "display_data"
    }
   ],
   "source": [
    "plt.imshow(ndi.rotate(brain_mask_data[96], -90), cmap='bone')\n",
    "plt.axis('off')\n",
    "plt.show()"
   ]
  },
  {
   "attachments": {},
   "cell_type": "markdown",
   "metadata": {},
   "source": [
    "# Applying resample for mask"
   ]
  },
  {
   "cell_type": "code",
   "execution_count": 216,
   "metadata": {},
   "outputs": [],
   "source": [
    "from nilearn.image import resample_to_img"
   ]
  },
  {
   "cell_type": "code",
   "execution_count": 217,
   "metadata": {},
   "outputs": [],
   "source": [
    "# loading 2 img again\n",
    "raw_img = nib.load('data/raw/T2_UT168.nii')\n",
    "mask_img = nib.load('data/mask/T2_UT168.nii')"
   ]
  },
  {
   "cell_type": "code",
   "execution_count": 218,
   "metadata": {},
   "outputs": [
    {
     "name": "stdout",
     "output_type": "stream",
     "text": [
      "<class 'nibabel.nifti1.Nifti1Header'> object, endian='<'\n",
      "sizeof_hdr      : 348\n",
      "data_type       : b''\n",
      "db_name         : b''\n",
      "extents         : 16384\n",
      "session_error   : 0\n",
      "regular         : b'r'\n",
      "dim_info        : 54\n",
      "dim             : [  3 128 160  96   0   0   0   0]\n",
      "intent_p1       : 0.0\n",
      "intent_p2       : 0.0\n",
      "intent_p3       : 0.0\n",
      "intent_code     : none\n",
      "datatype        : int16\n",
      "bitpix          : 16\n",
      "slice_start     : 0\n",
      "pixdim          : [1.  0.1 0.1 0.1 0.  0.  0.  0. ]\n",
      "vox_offset      : 0.0\n",
      "scl_slope       : nan\n",
      "scl_inter       : nan\n",
      "slice_end       : 95\n",
      "slice_code      : unknown\n",
      "xyzt_units      : 2\n",
      "cal_max         : 32766.0\n",
      "cal_min         : 2.0\n",
      "slice_duration  : 0.0\n",
      "toffset         : 0.0\n",
      "glmax           : 32767\n",
      "glmin           : -32768\n",
      "descrip         : b'Keio_Abeyoshifumi/20221103_UT168_silocin/5/4'\n",
      "aux_file        : b''\n",
      "qform_code      : scanner\n",
      "sform_code      : aligned\n",
      "quatern_b       : -0.70710677\n",
      "quatern_c       : -2.1648902e-17\n",
      "quatern_d       : 2.1648902e-17\n",
      "qoffset_x       : -6.75533\n",
      "qoffset_y       : -5.663706\n",
      "qoffset_z       : 6.88325\n",
      "srow_x          : [ 9.8942393e-01  3.9598107e-02 -1.3954318e-01 -6.1136059e+01]\n",
      "srow_y          : [ 2.1576822e-02 -9.9149215e-01 -1.2836576e-01  7.0611824e+01]\n",
      "srow_z          : [-0.14343894  0.12399727 -0.9818604   4.598442  ]\n",
      "intent_name     : b''\n",
      "magic           : b'n+1'\n"
     ]
    }
   ],
   "source": [
    "print(raw_img.header)"
   ]
  },
  {
   "cell_type": "code",
   "execution_count": 219,
   "metadata": {},
   "outputs": [
    {
     "name": "stdout",
     "output_type": "stream",
     "text": [
      "\n",
      "<class 'nibabel.nifti1.Nifti1Image'>\n",
      "data shape (128, 160, 96)\n",
      "affine:\n",
      "[[ 1.00000001e-01 -1.04794686e-25 -6.12323426e-18 -6.75533009e+00]\n",
      " [ 6.12323426e-18  3.42285422e-09  1.00000001e-01 -5.66370583e+00]\n",
      " [ 1.04794686e-25 -1.00000001e-01  3.42285422e-09  6.88325024e+00]\n",
      " [ 0.00000000e+00  0.00000000e+00  0.00000000e+00  1.00000000e+00]]\n",
      "metadata:\n",
      "<class 'nibabel.nifti1.Nifti1Header'> object, endian='<'\n",
      "sizeof_hdr      : 348\n",
      "data_type       : b''\n",
      "db_name         : b''\n",
      "extents         : 0\n",
      "session_error   : 0\n",
      "regular         : b'r'\n",
      "dim_info        : 0\n",
      "dim             : [  3 128 160  96   1   1   1   1]\n",
      "intent_p1       : 0.0\n",
      "intent_p2       : 0.0\n",
      "intent_p3       : 0.0\n",
      "intent_code     : none\n",
      "datatype        : float64\n",
      "bitpix          : 64\n",
      "slice_start     : 0\n",
      "pixdim          : [1.  0.1 0.1 0.1 0.  0.  0.  0. ]\n",
      "vox_offset      : 0.0\n",
      "scl_slope       : nan\n",
      "scl_inter       : nan\n",
      "slice_end       : 0\n",
      "slice_code      : unknown\n",
      "xyzt_units      : 2\n",
      "cal_max         : 0.0\n",
      "cal_min         : 0.0\n",
      "slice_duration  : 0.0\n",
      "toffset         : 0.0\n",
      "glmax           : 0\n",
      "glmin           : 0\n",
      "descrip         : b''\n",
      "aux_file        : b''\n",
      "qform_code      : scanner\n",
      "sform_code      : scanner\n",
      "quatern_b       : -0.70710677\n",
      "quatern_c       : -2.1648903e-17\n",
      "quatern_d       : 2.1648903e-17\n",
      "qoffset_x       : -6.75533\n",
      "qoffset_y       : -5.663706\n",
      "qoffset_z       : 6.88325\n",
      "srow_x          : [ 1.0000000e-01 -1.0479469e-25 -6.1232343e-18 -6.7553301e+00]\n",
      "srow_y          : [ 6.1232343e-18  3.4228542e-09  1.0000000e-01 -5.6637058e+00]\n",
      "srow_z          : [ 1.0479469e-25 -1.0000000e-01  3.4228542e-09  6.8832502e+00]\n",
      "intent_name     : b''\n",
      "magic           : b'n+1'\n",
      "\n"
     ]
    }
   ],
   "source": [
    "print(mask_img)"
   ]
  },
  {
   "cell_type": "code",
   "execution_count": 220,
   "metadata": {},
   "outputs": [
    {
     "name": "stderr",
     "output_type": "stream",
     "text": [
      "/home/sharapova/anaconda3/envs/mribase/lib/python3.10/site-packages/nilearn/image/resampling.py:294: UserWarning: Resampling binary images with continuous or linear interpolation. This might lead to unexpected results. You might consider using nearest interpolation instead.\n",
      "  warnings.warn(\n"
     ]
    },
    {
     "data": {
      "text/plain": [
       "<nibabel.nifti1.Nifti1Image at 0x7fabac8d5c60>"
      ]
     },
     "execution_count": 220,
     "metadata": {},
     "output_type": "execute_result"
    }
   ],
   "source": [
    "# resampling\n",
    "resampled_mask = resample_to_img(mask_img, raw_img)\n",
    "resampled_mask"
   ]
  },
  {
   "cell_type": "code",
   "execution_count": 252,
   "metadata": {},
   "outputs": [
    {
     "name": "stdout",
     "output_type": "stream",
     "text": [
      "<class 'nibabel.nifti1.Nifti1Header'> object, endian='<'\n",
      "sizeof_hdr      : 348\n",
      "data_type       : b''\n",
      "db_name         : b''\n",
      "extents         : 0\n",
      "session_error   : 0\n",
      "regular         : b''\n",
      "dim_info        : 0\n",
      "dim             : [  3 128 160  96   1   1   1   1]\n",
      "intent_p1       : 0.0\n",
      "intent_p2       : 0.0\n",
      "intent_p3       : 0.0\n",
      "intent_code     : none\n",
      "datatype        : float64\n",
      "bitpix          : 64\n",
      "slice_start     : 0\n",
      "pixdim          : [1.         1.         1.         0.99999994 1.         1.\n",
      " 1.         1.        ]\n",
      "vox_offset      : 0.0\n",
      "scl_slope       : nan\n",
      "scl_inter       : nan\n",
      "slice_end       : 0\n",
      "slice_code      : unknown\n",
      "xyzt_units      : 0\n",
      "cal_max         : 0.0\n",
      "cal_min         : 0.0\n",
      "slice_duration  : 0.0\n",
      "toffset         : 0.0\n",
      "glmax           : 0\n",
      "glmin           : 0\n",
      "descrip         : b''\n",
      "aux_file        : b''\n",
      "qform_code      : unknown\n",
      "sform_code      : aligned\n",
      "quatern_b       : 0.9953362\n",
      "quatern_c       : 0.015365392\n",
      "quatern_d       : -0.07107702\n",
      "qoffset_x       : -61.13606\n",
      "qoffset_y       : 70.611824\n",
      "qoffset_z       : 4.598442\n",
      "srow_x          : [ 9.8942393e-01  3.9598107e-02 -1.3954318e-01 -6.1136059e+01]\n",
      "srow_y          : [ 2.1576822e-02 -9.9149215e-01 -1.2836576e-01  7.0611824e+01]\n",
      "srow_z          : [-0.14343894  0.12399727 -0.9818604   4.598442  ]\n",
      "intent_name     : b''\n",
      "magic           : b'n+1'\n"
     ]
    }
   ],
   "source": [
    "print(resampled_mask.header)"
   ]
  },
  {
   "cell_type": "code",
   "execution_count": 258,
   "metadata": {},
   "outputs": [
    {
     "name": "stdout",
     "output_type": "stream",
     "text": [
      "<class 'nibabel.nifti1.Nifti1Header'> object, endian='<'\n",
      "sizeof_hdr      : 348\n",
      "data_type       : b''\n",
      "db_name         : b''\n",
      "extents         : 16384\n",
      "session_error   : 0\n",
      "regular         : b'r'\n",
      "dim_info        : 54\n",
      "dim             : [  3 128 160  96   0   0   0   0]\n",
      "intent_p1       : 0.0\n",
      "intent_p2       : 0.0\n",
      "intent_p3       : 0.0\n",
      "intent_code     : none\n",
      "datatype        : int16\n",
      "bitpix          : 16\n",
      "slice_start     : 0\n",
      "pixdim          : [1.  0.1 0.1 0.1 0.  0.  0.  0. ]\n",
      "vox_offset      : 0.0\n",
      "scl_slope       : nan\n",
      "scl_inter       : nan\n",
      "slice_end       : 95\n",
      "slice_code      : unknown\n",
      "xyzt_units      : 2\n",
      "cal_max         : 32766.0\n",
      "cal_min         : 2.0\n",
      "slice_duration  : 0.0\n",
      "toffset         : 0.0\n",
      "glmax           : 32767\n",
      "glmin           : -32768\n",
      "descrip         : b'Keio_Abeyoshifumi/20221103_UT168_silocin/5/4'\n",
      "aux_file        : b''\n",
      "qform_code      : scanner\n",
      "sform_code      : aligned\n",
      "quatern_b       : -0.70710677\n",
      "quatern_c       : -2.1648902e-17\n",
      "quatern_d       : 2.1648902e-17\n",
      "qoffset_x       : -6.75533\n",
      "qoffset_y       : -5.663706\n",
      "qoffset_z       : 6.88325\n",
      "srow_x          : [ 9.8942393e-01  3.9598107e-02 -1.3954318e-01 -6.1136059e+01]\n",
      "srow_y          : [ 2.1576822e-02 -9.9149215e-01 -1.2836576e-01  7.0611824e+01]\n",
      "srow_z          : [-0.14343894  0.12399727 -0.9818604   4.598442  ]\n",
      "intent_name     : b''\n",
      "magic           : b'n+1'\n"
     ]
    }
   ],
   "source": [
    "header = raw_img.header\n",
    "print(header)"
   ]
  },
  {
   "cell_type": "code",
   "execution_count": null,
   "metadata": {},
   "outputs": [],
   "source": []
  },
  {
   "cell_type": "code",
   "execution_count": 251,
   "metadata": {},
   "outputs": [
    {
     "data": {
      "image/png": "[encoded data removed]",
      "text/plain": [
       "<Figure size 640x480 with 1 Axes>"
      ]
     },
     "metadata": {},
     "output_type": "display_data"
    }
   ],
   "source": [
    "img_resampled = resampled_mask.get_fdata()\n",
    "\n",
    "plt.imshow(ndi.rotate(img_resampled[60], 90), cmap='bone')\n",
    "plt.axis('off')\n",
    "plt.show()"
   ]
  },
  {
   "cell_type": "code",
   "execution_count": 223,
   "metadata": {},
   "outputs": [],
   "source": [
    "#saving mask\n",
    "resampled_mask.to_filename('data/resampled/resampled_mask.nii')"
   ]
  },
  {
   "attachments": {},
   "cell_type": "markdown",
   "metadata": {},
   "source": [
    "#### Above code did not successfully returned expected result\n",
    "\n",
    "# Trying new aproach"
   ]
  },
  {
   "cell_type": "code",
   "execution_count": 224,
   "metadata": {},
   "outputs": [],
   "source": [
    "# loading imges again\n",
    "raw_img = nib.load('data/raw/T2_UT168.nii')\n",
    "mask_img = nib.load('data/mask/T2_UT168.nii')"
   ]
  },
  {
   "cell_type": "code",
   "execution_count": 255,
   "metadata": {},
   "outputs": [
    {
     "name": "stdout",
     "output_type": "stream",
     "text": [
      "<class 'nibabel.nifti1.Nifti1Header'> object, endian='<'\n",
      "sizeof_hdr      : 348\n",
      "data_type       : b''\n",
      "db_name         : b''\n",
      "extents         : 16384\n",
      "session_error   : 0\n",
      "regular         : b'r'\n",
      "dim_info        : 54\n",
      "dim             : [  3 128 160  96   0   0   0   0]\n",
      "intent_p1       : 0.0\n",
      "intent_p2       : 0.0\n",
      "intent_p3       : 0.0\n",
      "intent_code     : none\n",
      "datatype        : int16\n",
      "bitpix          : 16\n",
      "slice_start     : 0\n",
      "pixdim          : [1.  0.1 0.1 0.1 0.  0.  0.  0. ]\n",
      "vox_offset      : 0.0\n",
      "scl_slope       : nan\n",
      "scl_inter       : nan\n",
      "slice_end       : 95\n",
      "slice_code      : unknown\n",
      "xyzt_units      : 2\n",
      "cal_max         : 32766.0\n",
      "cal_min         : 2.0\n",
      "slice_duration  : 0.0\n",
      "toffset         : 0.0\n",
      "glmax           : 32767\n",
      "glmin           : -32768\n",
      "descrip         : b'Keio_Abeyoshifumi/20221103_UT168_silocin/5/4'\n",
      "aux_file        : b''\n",
      "qform_code      : scanner\n",
      "sform_code      : aligned\n",
      "quatern_b       : -0.70710677\n",
      "quatern_c       : -2.1648902e-17\n",
      "quatern_d       : 2.1648902e-17\n",
      "qoffset_x       : -6.75533\n",
      "qoffset_y       : -5.663706\n",
      "qoffset_z       : 6.88325\n",
      "srow_x          : [ 9.8942393e-01  3.9598107e-02 -1.3954318e-01 -6.1136059e+01]\n",
      "srow_y          : [ 2.1576822e-02 -9.9149215e-01 -1.2836576e-01  7.0611824e+01]\n",
      "srow_z          : [-0.14343894  0.12399727 -0.9818604   4.598442  ]\n",
      "intent_name     : b''\n",
      "magic           : b'n+1'\n"
     ]
    }
   ],
   "source": [
    "print(raw_img.header)"
   ]
  },
  {
   "cell_type": "code",
   "execution_count": 225,
   "metadata": {},
   "outputs": [
    {
     "name": "stdout",
     "output_type": "stream",
     "text": [
      "<class 'nibabel.nifti1.Nifti1Header'> object, endian='<'\n",
      "sizeof_hdr      : 348\n",
      "data_type       : b''\n",
      "db_name         : b''\n",
      "extents         : 0\n",
      "session_error   : 0\n",
      "regular         : b''\n",
      "dim_info        : 0\n",
      "dim             : [  3 128 160  96   1   1   1   1]\n",
      "intent_p1       : 0.0\n",
      "intent_p2       : 0.0\n",
      "intent_p3       : 0.0\n",
      "intent_code     : none\n",
      "datatype        : float64\n",
      "bitpix          : 64\n",
      "slice_start     : 0\n",
      "pixdim          : [1.         1.         1.         0.99999994 1.         1.\n",
      " 1.         1.        ]\n",
      "vox_offset      : 0.0\n",
      "scl_slope       : nan\n",
      "scl_inter       : nan\n",
      "slice_end       : 0\n",
      "slice_code      : unknown\n",
      "xyzt_units      : 0\n",
      "cal_max         : 0.0\n",
      "cal_min         : 0.0\n",
      "slice_duration  : 0.0\n",
      "toffset         : 0.0\n",
      "glmax           : 0\n",
      "glmin           : 0\n",
      "descrip         : b''\n",
      "aux_file        : b''\n",
      "qform_code      : unknown\n",
      "sform_code      : aligned\n",
      "quatern_b       : 0.9953362\n",
      "quatern_c       : 0.015365392\n",
      "quatern_d       : -0.07107702\n",
      "qoffset_x       : -61.13606\n",
      "qoffset_y       : 70.611824\n",
      "qoffset_z       : 4.598442\n",
      "srow_x          : [ 9.8942393e-01  3.9598107e-02 -1.3954318e-01 -6.1136059e+01]\n",
      "srow_y          : [ 2.1576822e-02 -9.9149215e-01 -1.2836576e-01  7.0611824e+01]\n",
      "srow_z          : [-0.14343894  0.12399727 -0.9818604   4.598442  ]\n",
      "intent_name     : b''\n",
      "magic           : b'n+1'\n"
     ]
    },
    {
     "name": "stderr",
     "output_type": "stream",
     "text": [
      "/home/sharapova/anaconda3/envs/mribase/lib/python3.10/site-packages/nilearn/image/resampling.py:294: UserWarning: Resampling binary images with continuous or linear interpolation. This might lead to unexpected results. You might consider using nearest interpolation instead.\n",
      "  warnings.warn(\n"
     ]
    }
   ],
   "source": [
    "resampled_mask = resample_to_img(mask_img, raw_img)\n",
    "print(resampled_mask.header)"
   ]
  },
  {
   "cell_type": "code",
   "execution_count": 226,
   "metadata": {},
   "outputs": [
    {
     "data": {
      "text/plain": [
       "3"
      ]
     },
     "execution_count": 226,
     "metadata": {},
     "output_type": "execute_result"
    }
   ],
   "source": [
    "resampled_mask.ndim"
   ]
  },
  {
   "cell_type": "code",
   "execution_count": 227,
   "metadata": {},
   "outputs": [
    {
     "data": {
      "text/plain": [
       "(128, 160, 96)"
      ]
     },
     "execution_count": 227,
     "metadata": {},
     "output_type": "execute_result"
    }
   ],
   "source": [
    "resampled_mask.shape"
   ]
  },
  {
   "cell_type": "code",
   "execution_count": 228,
   "metadata": {},
   "outputs": [
    {
     "name": "stdout",
     "output_type": "stream",
     "text": [
      "[[[0 0 0 ... 0 0 0]\n",
      "  [0 0 0 ... 0 0 0]\n",
      "  [0 0 0 ... 0 0 0]\n",
      "  ...\n",
      "  [0 0 0 ... 0 0 0]\n",
      "  [0 0 0 ... 0 0 0]\n",
      "  [0 0 0 ... 0 0 0]]\n",
      "\n",
      " [[0 0 0 ... 0 0 0]\n",
      "  [0 0 0 ... 0 0 0]\n",
      "  [0 0 0 ... 0 0 0]\n",
      "  ...\n",
      "  [0 0 0 ... 0 0 0]\n",
      "  [0 0 0 ... 0 0 0]\n",
      "  [0 0 0 ... 0 0 0]]\n",
      "\n",
      " [[0 0 0 ... 0 0 0]\n",
      "  [0 0 0 ... 0 0 0]\n",
      "  [0 0 0 ... 0 0 0]\n",
      "  ...\n",
      "  [0 0 0 ... 0 0 0]\n",
      "  [0 0 0 ... 0 0 0]\n",
      "  [0 0 0 ... 0 0 0]]\n",
      "\n",
      " ...\n",
      "\n",
      " [[0 0 0 ... 0 0 0]\n",
      "  [0 0 0 ... 0 0 0]\n",
      "  [0 0 0 ... 0 0 0]\n",
      "  ...\n",
      "  [0 0 0 ... 0 0 0]\n",
      "  [0 0 0 ... 0 0 0]\n",
      "  [0 0 0 ... 0 0 0]]\n",
      "\n",
      " [[0 0 0 ... 0 0 0]\n",
      "  [0 0 0 ... 0 0 0]\n",
      "  [0 0 0 ... 0 0 0]\n",
      "  ...\n",
      "  [0 0 0 ... 0 0 0]\n",
      "  [0 0 0 ... 0 0 0]\n",
      "  [0 0 0 ... 0 0 0]]\n",
      "\n",
      " [[0 0 0 ... 0 0 0]\n",
      "  [0 0 0 ... 0 0 0]\n",
      "  [0 0 0 ... 0 0 0]\n",
      "  ...\n",
      "  [0 0 0 ... 0 0 0]\n",
      "  [0 0 0 ... 0 0 0]\n",
      "  [0 0 0 ... 0 0 0]]]\n"
     ]
    }
   ],
   "source": [
    "resampled_mask_data = resampled_mask.get_fdata().astype(np.int8)\n",
    "print(resampled_mask_data)"
   ]
  },
  {
   "cell_type": "code",
   "execution_count": 229,
   "metadata": {},
   "outputs": [
    {
     "data": {
      "image/png": "[encoded data removed]",
      "text/plain": [
       "<Figure size 640x480 with 1 Axes>"
      ]
     },
     "metadata": {},
     "output_type": "display_data"
    }
   ],
   "source": [
    "\n",
    "plt.imshow(ndi.rotate(resampled_mask_data[40], 90), cmap='bone')\n",
    "plt.axis('off')\n",
    "plt.show()"
   ]
  },
  {
   "cell_type": "code",
   "execution_count": 230,
   "metadata": {},
   "outputs": [],
   "source": [
    "# generating new mask for resampl\n",
    "new_mask = nib.Nifti1Image(resampled_mask_data, raw_img.affine)"
   ]
  },
  {
   "cell_type": "code",
   "execution_count": 231,
   "metadata": {},
   "outputs": [],
   "source": [
    "new_mask_header = new_mask.header\n",
    "raw_header = raw_img.header"
   ]
  },
  {
   "cell_type": "code",
   "execution_count": 232,
   "metadata": {},
   "outputs": [
    {
     "data": {
      "text/plain": [
       "False"
      ]
     },
     "execution_count": 232,
     "metadata": {},
     "output_type": "execute_result"
    }
   ],
   "source": [
    "new_mask_header == raw_header"
   ]
  },
  {
   "cell_type": "code",
   "execution_count": 233,
   "metadata": {},
   "outputs": [],
   "source": [
    "new_mask_header['pixdim'] = raw_header['pixdim']\n",
    "new_mask_header.set_data_dtype(raw_header.get_data_dtype())"
   ]
  },
  {
   "cell_type": "code",
   "execution_count": 234,
   "metadata": {},
   "outputs": [],
   "source": [
    "new_mask.to_filename('data/resampled/resampled_mask_n1.nii')"
   ]
  },
  {
   "attachments": {},
   "cell_type": "markdown",
   "metadata": {},
   "source": [
    "# Still not working as expected. Checking data processed by matlab"
   ]
  },
  {
   "cell_type": "code",
   "execution_count": 235,
   "metadata": {},
   "outputs": [],
   "source": [
    "mat_img = nib.load('data/matlab_raw_mask/T2_UT224.nii')\n",
    "mat_img_mask = nib.load('data/matlab_raw_mask/Brain_mask_UT224.nii')"
   ]
  },
  {
   "cell_type": "code",
   "execution_count": 236,
   "metadata": {},
   "outputs": [
    {
     "name": "stdout",
     "output_type": "stream",
     "text": [
      "<class 'nibabel.nifti1.Nifti1Header'> object, endian='<'\n",
      "sizeof_hdr      : 348\n",
      "data_type       : b''\n",
      "db_name         : b''\n",
      "extents         : 16384\n",
      "session_error   : 0\n",
      "regular         : b'r'\n",
      "dim_info        : 54\n",
      "dim             : [  3 128 160  96   0   0   0   0]\n",
      "intent_p1       : 0.0\n",
      "intent_p2       : 0.0\n",
      "intent_p3       : 0.0\n",
      "intent_code     : none\n",
      "datatype        : int16\n",
      "bitpix          : 16\n",
      "slice_start     : 0\n",
      "pixdim          : [1.  0.1 0.1 0.1 0.  0.  0.  0. ]\n",
      "vox_offset      : 0.0\n",
      "scl_slope       : nan\n",
      "scl_inter       : nan\n",
      "slice_end       : 95\n",
      "slice_code      : unknown\n",
      "xyzt_units      : 2\n",
      "cal_max         : 32766.0\n",
      "cal_min         : 3.0\n",
      "slice_duration  : 0.0\n",
      "toffset         : 0.0\n",
      "glmax           : 32767\n",
      "glmin           : -32768\n",
      "descrip         : b'Keio_Abeyoshifumi/20221216_UT224_ctl/4/4'\n",
      "aux_file        : b''\n",
      "qform_code      : scanner\n",
      "sform_code      : aligned\n",
      "quatern_b       : -0.70710677\n",
      "quatern_c       : -2.1648902e-17\n",
      "quatern_d       : 2.1648902e-17\n",
      "qoffset_x       : -7.207601\n",
      "qoffset_y       : -4.75\n",
      "qoffset_z       : 7.097387\n",
      "srow_x          : [ 9.9201447e-01  3.9701760e-02 -1.1971223e-01 -6.2355381e+01]\n",
      "srow_y          : [ 0.06295633 -0.97833157  0.19724071 51.16856   ]\n",
      "srow_z          : [-0.10928738 -0.20320225 -0.9730185  27.802448  ]\n",
      "intent_name     : b''\n",
      "magic           : b'n+1'\n"
     ]
    }
   ],
   "source": [
    "print(mat_img.header)"
   ]
  },
  {
   "cell_type": "code",
   "execution_count": 237,
   "metadata": {},
   "outputs": [
    {
     "name": "stdout",
     "output_type": "stream",
     "text": [
      "<class 'nibabel.nifti1.Nifti1Header'> object, endian='<'\n",
      "sizeof_hdr      : 348\n",
      "data_type       : b''\n",
      "db_name         : b''\n",
      "extents         : 16384\n",
      "session_error   : 0\n",
      "regular         : b'r'\n",
      "dim_info        : 54\n",
      "dim             : [  3 128 160  96   1   1   0   0]\n",
      "intent_p1       : 0.0\n",
      "intent_p2       : 0.0\n",
      "intent_p3       : 0.0\n",
      "intent_code     : none\n",
      "datatype        : uint8\n",
      "bitpix          : 8\n",
      "slice_start     : 0\n",
      "pixdim          : [1.  0.1 0.1 0.1 0.  0.  0.  0. ]\n",
      "vox_offset      : 0.0\n",
      "scl_slope       : nan\n",
      "scl_inter       : nan\n",
      "slice_end       : 95\n",
      "slice_code      : unknown\n",
      "xyzt_units      : 2\n",
      "cal_max         : 32766.0\n",
      "cal_min         : 3.0\n",
      "slice_duration  : 0.0\n",
      "toffset         : 0.0\n",
      "glmax           : 32767\n",
      "glmin           : -32768\n",
      "descrip         : b'Keio_Abeyoshifumi/20221216_UT224_ctl/4/4'\n",
      "aux_file        : b''\n",
      "qform_code      : scanner\n",
      "sform_code      : aligned\n",
      "quatern_b       : -0.70710677\n",
      "quatern_c       : -2.1648902e-17\n",
      "quatern_d       : 2.1648902e-17\n",
      "qoffset_x       : -7.207601\n",
      "qoffset_y       : -4.75\n",
      "qoffset_z       : 7.097387\n",
      "srow_x          : [ 9.9201447e-01  3.9701760e-02 -1.1971223e-01 -6.2355381e+01]\n",
      "srow_y          : [ 0.06295633 -0.97833157  0.19724071 51.16856   ]\n",
      "srow_z          : [-0.10928738 -0.20320225 -0.9730185  27.802448  ]\n",
      "intent_name     : b''\n",
      "magic           : b'n+1'\n"
     ]
    }
   ],
   "source": [
    "print(mat_img_mask.header)"
   ]
  },
  {
   "cell_type": "code",
   "execution_count": 238,
   "metadata": {},
   "outputs": [
    {
     "name": "stdout",
     "output_type": "stream",
     "text": [
      "False\n"
     ]
    }
   ],
   "source": [
    "print(mat_img.header == mat_img_mask.header)"
   ]
  },
  {
   "cell_type": "code",
   "execution_count": 239,
   "metadata": {},
   "outputs": [],
   "source": [
    "matlab_mask = mat_img_mask.get_fdata()"
   ]
  },
  {
   "cell_type": "code",
   "execution_count": 254,
   "metadata": {},
   "outputs": [
    {
     "name": "stdout",
     "output_type": "stream",
     "text": [
      "<class 'nibabel.nifti1.Nifti1Header'> object, endian='<'\n",
      "sizeof_hdr      : 348\n",
      "data_type       : b''\n",
      "db_name         : b''\n",
      "extents         : 16384\n",
      "session_error   : 0\n",
      "regular         : b'r'\n",
      "dim_info        : 54\n",
      "dim             : [  3 128 160  96   1   1   0   0]\n",
      "intent_p1       : 0.0\n",
      "intent_p2       : 0.0\n",
      "intent_p3       : 0.0\n",
      "intent_code     : none\n",
      "datatype        : uint8\n",
      "bitpix          : 8\n",
      "slice_start     : 0\n",
      "pixdim          : [1.  0.1 0.1 0.1 0.  0.  0.  0. ]\n",
      "vox_offset      : 0.0\n",
      "scl_slope       : nan\n",
      "scl_inter       : nan\n",
      "slice_end       : 95\n",
      "slice_code      : unknown\n",
      "xyzt_units      : 2\n",
      "cal_max         : 32766.0\n",
      "cal_min         : 3.0\n",
      "slice_duration  : 0.0\n",
      "toffset         : 0.0\n",
      "glmax           : 32767\n",
      "glmin           : -32768\n",
      "descrip         : b'Keio_Abeyoshifumi/20221216_UT224_ctl/4/4'\n",
      "aux_file        : b''\n",
      "qform_code      : scanner\n",
      "sform_code      : aligned\n",
      "quatern_b       : -0.70710677\n",
      "quatern_c       : -2.1648902e-17\n",
      "quatern_d       : 2.1648902e-17\n",
      "qoffset_x       : -7.207601\n",
      "qoffset_y       : -4.75\n",
      "qoffset_z       : 7.097387\n",
      "srow_x          : [ 9.9201447e-01  3.9701760e-02 -1.1971223e-01 -6.2355381e+01]\n",
      "srow_y          : [ 0.06295633 -0.97833157  0.19724071 51.16856   ]\n",
      "srow_z          : [-0.10928738 -0.20320225 -0.9730185  27.802448  ]\n",
      "intent_name     : b''\n",
      "magic           : b'n+1'\n"
     ]
    }
   ],
   "source": [
    "    print(mat_img_mask.header)"
   ]
  },
  {
   "cell_type": "code",
   "execution_count": 246,
   "metadata": {},
   "outputs": [
    {
     "data": {
      "image/png": "[encoded data removed]",
      "text/plain": [
       "<Figure size 640x480 with 1 Axes>"
      ]
     },
     "metadata": {},
     "output_type": "display_data"
    }
   ],
   "source": [
    "plt.imshow(ndi.rotate(matlab_mask[30], 90), cmap='bone')\n",
    "plt.axis('off')\n",
    "plt.show()"
   ]
  },
  {
   "cell_type": "code",
   "execution_count": 241,
   "metadata": {},
   "outputs": [],
   "source": [
    "image_raw = nib.load('data/raw/T2_UT168.nii')\n",
    "image_mask = nib.load('data/mask/T2_UT168.nii')\n"
   ]
  },
  {
   "cell_type": "code",
   "execution_count": 242,
   "metadata": {},
   "outputs": [
    {
     "name": "stdout",
     "output_type": "stream",
     "text": [
      "<class 'nibabel.nifti1.Nifti1Header'> object, endian='<'\n",
      "sizeof_hdr      : 348\n",
      "data_type       : b''\n",
      "db_name         : b''\n",
      "extents         : 16384\n",
      "session_error   : 0\n",
      "regular         : b'r'\n",
      "dim_info        : 54\n",
      "dim             : [  3 128 160  96   0   0   0   0]\n",
      "intent_p1       : 0.0\n",
      "intent_p2       : 0.0\n",
      "intent_p3       : 0.0\n",
      "intent_code     : none\n",
      "datatype        : int16\n",
      "bitpix          : 16\n",
      "slice_start     : 0\n",
      "pixdim          : [1.  0.1 0.1 0.1 0.  0.  0.  0. ]\n",
      "vox_offset      : 0.0\n",
      "scl_slope       : nan\n",
      "scl_inter       : nan\n",
      "slice_end       : 95\n",
      "slice_code      : unknown\n",
      "xyzt_units      : 2\n",
      "cal_max         : 32766.0\n",
      "cal_min         : 2.0\n",
      "slice_duration  : 0.0\n",
      "toffset         : 0.0\n",
      "glmax           : 32767\n",
      "glmin           : -32768\n",
      "descrip         : b'Keio_Abeyoshifumi/20221103_UT168_silocin/5/4'\n",
      "aux_file        : b''\n",
      "qform_code      : scanner\n",
      "sform_code      : aligned\n",
      "quatern_b       : -0.70710677\n",
      "quatern_c       : -2.1648902e-17\n",
      "quatern_d       : 2.1648902e-17\n",
      "qoffset_x       : -6.75533\n",
      "qoffset_y       : -5.663706\n",
      "qoffset_z       : 6.88325\n",
      "srow_x          : [ 9.8942393e-01  3.9598107e-02 -1.3954318e-01 -6.1136059e+01]\n",
      "srow_y          : [ 2.1576822e-02 -9.9149215e-01 -1.2836576e-01  7.0611824e+01]\n",
      "srow_z          : [-0.14343894  0.12399727 -0.9818604   4.598442  ]\n",
      "intent_name     : b''\n",
      "magic           : b'n+1'\n"
     ]
    }
   ],
   "source": [
    "print(image_raw.header)"
   ]
  },
  {
   "cell_type": "code",
   "execution_count": 243,
   "metadata": {},
   "outputs": [
    {
     "name": "stdout",
     "output_type": "stream",
     "text": [
      "<class 'nibabel.nifti1.Nifti1Header'> object, endian='<'\n",
      "sizeof_hdr      : 348\n",
      "data_type       : b''\n",
      "db_name         : b''\n",
      "extents         : 0\n",
      "session_error   : 0\n",
      "regular         : b'r'\n",
      "dim_info        : 0\n",
      "dim             : [  3 128 160  96   1   1   1   1]\n",
      "intent_p1       : 0.0\n",
      "intent_p2       : 0.0\n",
      "intent_p3       : 0.0\n",
      "intent_code     : none\n",
      "datatype        : float64\n",
      "bitpix          : 64\n",
      "slice_start     : 0\n",
      "pixdim          : [1.  0.1 0.1 0.1 0.  0.  0.  0. ]\n",
      "vox_offset      : 0.0\n",
      "scl_slope       : nan\n",
      "scl_inter       : nan\n",
      "slice_end       : 0\n",
      "slice_code      : unknown\n",
      "xyzt_units      : 2\n",
      "cal_max         : 0.0\n",
      "cal_min         : 0.0\n",
      "slice_duration  : 0.0\n",
      "toffset         : 0.0\n",
      "glmax           : 0\n",
      "glmin           : 0\n",
      "descrip         : b''\n",
      "aux_file        : b''\n",
      "qform_code      : scanner\n",
      "sform_code      : scanner\n",
      "quatern_b       : -0.70710677\n",
      "quatern_c       : -2.1648903e-17\n",
      "quatern_d       : 2.1648903e-17\n",
      "qoffset_x       : -6.75533\n",
      "qoffset_y       : -5.663706\n",
      "qoffset_z       : 6.88325\n",
      "srow_x          : [ 1.0000000e-01 -1.0479469e-25 -6.1232343e-18 -6.7553301e+00]\n",
      "srow_y          : [ 6.1232343e-18  3.4228542e-09  1.0000000e-01 -5.6637058e+00]\n",
      "srow_z          : [ 1.0479469e-25 -1.0000000e-01  3.4228542e-09  6.8832502e+00]\n",
      "intent_name     : b''\n",
      "magic           : b'n+1'\n"
     ]
    }
   ],
   "source": [
    "print(image_mask.header)"
   ]
  }
 ],
 "metadata": {
  "kernelspec": {
   "display_name": "mribase",
   "language": "python",
   "name": "python3"
  },
  "language_info": {
   "codemirror_mode": {
    "name": "ipython",
    "version": 3
   },
   "file_extension": ".py",
   "mimetype": "text/x-python",
   "name": "python",
   "nbconvert_exporter": "python",
   "pygments_lexer": "ipython3",
   "version": "3.10.10"
  },
  "orig_nbformat": 4
 },
 "nbformat": 4,
 "nbformat_minor": 2
}
