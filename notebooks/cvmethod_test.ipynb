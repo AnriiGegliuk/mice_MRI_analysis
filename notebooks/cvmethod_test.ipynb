{
 "cells": [
  {
   "cell_type": "code",
   "execution_count": 1,
   "metadata": {},
   "outputs": [],
   "source": [
    "# importing all necessary libraries\n",
    "\n",
    "import pandas as pd\n",
    "import numpy as np\n",
    "import nibabel as nib\n",
    "import matplotlib.pyplot as plt\n",
    "import scipy.ndimage as ndi\n",
    "from nilearn import plotting\n",
    "import os\n",
    "import cv2 as cv"
   ]
  },
  {
   "attachments": {},
   "cell_type": "markdown",
   "metadata": {},
   "source": [
    "# Create a function that will create new mask after BEN's generation + filling all missing pixels in the mask"
   ]
  },
  {
   "cell_type": "code",
   "execution_count": 2,
   "metadata": {},
   "outputs": [],
   "source": [
    "def update_header_and_save(raw_filepath, mask_filepath, new_mask_filepath):\n",
    "    raw_img = nib.load(raw_filepath)\n",
    "    mask_img = nib.load(mask_filepath)\n",
    "\n",
    "    \n",
    "    mask_data = mask_img.get_fdata()\n",
    "\n",
    "   \n",
    "    for i in range(mask_data.shape[2]):\n",
    "\n",
    "       \n",
    "        slice_img = mask_data[:, :, i]\n",
    "\n",
    "        \n",
    "        slice_img_8bit = cv.normalize(slice_img, None, 0, 255, cv.NORM_MINMAX).astype('uint8')\n",
    "\n",
    "       \n",
    "        kernel = np.ones((5, 5), np.uint8)\n",
    "        closing = cv.morphologyEx(slice_img_8bit, cv.MORPH_CLOSE, kernel)\n",
    "\n",
    "        \n",
    "        mask_data[:, :, i] = closing\n",
    "\n",
    "    attributes = ['extents', 'dim_info', 'slice_end', 'cal_max', 'cal_min', \n",
    "                  'glmax', 'glmin', 'srow_x', 'srow_y', 'srow_z']\n",
    "\n",
    "    header = mask_img.header.copy()\n",
    "    for attr in attributes:\n",
    "        header[attr] = raw_img.header[attr]\n",
    "\n",
    "    new_affine = np.eye(4)\n",
    "    new_affine[:-1, :] = np.array([header['srow_x'], header['srow_y'], header['srow_z']])\n",
    "\n",
    "    updated_mask_img = nib.Nifti1Image(mask_data, new_affine, header)\n",
    "    nib.save(updated_mask_img, new_mask_filepath)"
   ]
  },
  {
   "cell_type": "code",
   "execution_count": 3,
   "metadata": {},
   "outputs": [
    {
     "data": {
      "text/plain": [
       "'/home/sharapova/test/new_data_cv2'"
      ]
     },
     "execution_count": 3,
     "metadata": {},
     "output_type": "execute_result"
    }
   ],
   "source": [
    "data_dir = '/home/sharapova/test/new_data_cv2'\n",
    "data_dir"
   ]
  },
  {
   "cell_type": "code",
   "execution_count": 4,
   "metadata": {},
   "outputs": [
    {
     "name": "stdout",
     "output_type": "stream",
     "text": [
      "/home/sharapova/test/new_data_cv2/raw\n",
      "/home/sharapova/test/new_data_cv2/mask\n",
      "/home/sharapova/test/new_data_cv2/new_mask\n"
     ]
    }
   ],
   "source": [
    "raw_dir = os.path.join(data_dir, 'raw')\n",
    "print(raw_dir)\n",
    "mask_dir = os.path.join(data_dir, 'mask')\n",
    "print(mask_dir)\n",
    "new_mask_dir = os.path.join(data_dir, 'new_mask')\n",
    "print(new_mask_dir)"
   ]
  },
  {
   "cell_type": "code",
   "execution_count": 7,
   "metadata": {},
   "outputs": [
    {
     "data": {
      "text/plain": [
       "['T2_UT172.nii',\n",
       " 'T2_UT169.nii',\n",
       " 'T2_UT175.nii',\n",
       " 'T2_UT226.nii',\n",
       " 'T2_UT225.nii',\n",
       " 'T2_UT171.nii',\n",
       " 'T2_UT223.nii',\n",
       " 'T2_UT354.nii',\n",
       " 'T2_UT356.nii',\n",
       " 'T2_UT173.nii',\n",
       " 'T2_UT224.nii',\n",
       " 'T2_UT230.nii',\n",
       " 'T2_UT170.nii',\n",
       " 'T2_UT168.nii',\n",
       " 'T2_UT376.nii',\n",
       " 'T2_UT227.nii',\n",
       " 'T2_UT174.nii',\n",
       " 'T2_UT229.nii',\n",
       " 'T2_UT228.nii']"
      ]
     },
     "execution_count": 7,
     "metadata": {},
     "output_type": "execute_result"
    }
   ],
   "source": [
    "raw_files = os.listdir(raw_dir)\n",
    "raw_files"
   ]
  },
  {
   "cell_type": "code",
   "execution_count": 8,
   "metadata": {},
   "outputs": [
    {
     "data": {
      "text/plain": [
       "['T2_UT172.nii',\n",
       " 'T2_UT169.nii',\n",
       " 'T2_UT175.nii',\n",
       " 'T2_UT226.nii',\n",
       " 'T2_UT225.nii',\n",
       " 'T2_UT171.nii',\n",
       " 'T2_UT223.nii',\n",
       " 'T2_UT354.nii',\n",
       " 'T2_UT356.nii',\n",
       " 'T2_UT173.nii',\n",
       " 'T2_UT224.nii',\n",
       " 'T2_UT230.nii',\n",
       " 'T2_UT170.nii',\n",
       " 'T2_UT168.nii',\n",
       " 'T2_UT376.nii',\n",
       " 'T2_UT227.nii',\n",
       " 'T2_UT174.nii',\n",
       " 'T2_UT229.nii',\n",
       " 'T2_UT228.nii']"
      ]
     },
     "execution_count": 8,
     "metadata": {},
     "output_type": "execute_result"
    }
   ],
   "source": [
    "raw_files_mask = os.listdir(mask_dir)\n",
    "raw_files_mask"
   ]
  },
  {
   "cell_type": "code",
   "execution_count": 9,
   "metadata": {},
   "outputs": [
    {
     "data": {
      "text/plain": [
       "[]"
      ]
     },
     "execution_count": 9,
     "metadata": {},
     "output_type": "execute_result"
    }
   ],
   "source": [
    "new_mask = os.listdir(new_mask_dir)\n",
    "new_mask"
   ]
  },
  {
   "cell_type": "code",
   "execution_count": 10,
   "metadata": {},
   "outputs": [],
   "source": [
    "for raw_file in raw_files:\n",
    "    raw_filepath = os.path.join(raw_dir, raw_file)\n",
    "    mask_filepath = os.path.join(mask_dir, raw_file)\n",
    "    new_mask_filepath = os.path.join(new_mask_dir, os.path.splitext(raw_file)[0] + '_mask.nii')\n",
    "    update_header_and_save(raw_filepath, mask_filepath, new_mask_filepath)"
   ]
  },
  {
   "attachments": {},
   "cell_type": "markdown",
   "metadata": {},
   "source": [
    "# Testing function to make borders smother for the image mask"
   ]
  },
  {
   "cell_type": "code",
   "execution_count": 16,
   "metadata": {},
   "outputs": [
    {
     "name": "stdout",
     "output_type": "stream",
     "text": [
      "<class 'nibabel.nifti1.Nifti1Header'> object, endian='<'\n",
      "sizeof_hdr      : 348\n",
      "data_type       : b''\n",
      "db_name         : b''\n",
      "extents         : 0\n",
      "session_error   : 0\n",
      "regular         : b'r'\n",
      "dim_info        : 0\n",
      "dim             : [  3 128 160  96   1   1   1   1]\n",
      "intent_p1       : 0.0\n",
      "intent_p2       : 0.0\n",
      "intent_p3       : 0.0\n",
      "intent_code     : none\n",
      "datatype        : float64\n",
      "bitpix          : 64\n",
      "slice_start     : 0\n",
      "pixdim          : [1.  0.1 0.1 0.1 0.  0.  0.  0. ]\n",
      "vox_offset      : 0.0\n",
      "scl_slope       : nan\n",
      "scl_inter       : nan\n",
      "slice_end       : 0\n",
      "slice_code      : unknown\n",
      "xyzt_units      : 2\n",
      "cal_max         : 0.0\n",
      "cal_min         : 0.0\n",
      "slice_duration  : 0.0\n",
      "toffset         : 0.0\n",
      "glmax           : 0\n",
      "glmin           : 0\n",
      "descrip         : b''\n",
      "aux_file        : b''\n",
      "qform_code      : scanner\n",
      "sform_code      : scanner\n",
      "quatern_b       : -0.70710677\n",
      "quatern_c       : -2.1648903e-17\n",
      "quatern_d       : 2.1648903e-17\n",
      "qoffset_x       : -6.75533\n",
      "qoffset_y       : -5.663706\n",
      "qoffset_z       : 6.88325\n",
      "srow_x          : [ 1.0000000e-01 -1.0479469e-25 -6.1232343e-18 -6.7553301e+00]\n",
      "srow_y          : [ 6.1232343e-18  3.4228542e-09  1.0000000e-01 -5.6637058e+00]\n",
      "srow_z          : [ 1.0479469e-25 -1.0000000e-01  3.4228542e-09  6.8832502e+00]\n",
      "intent_name     : b''\n",
      "magic           : b'n+1'\n"
     ]
    }
   ],
   "source": [
    "img_mask = nib.load('new_data_cv2/mask/T2_UT168.nii')\n",
    "print(img_mask.header)"
   ]
  },
  {
   "cell_type": "code",
   "execution_count": null,
   "metadata": {},
   "outputs": [],
   "source": []
  }
 ],
 "metadata": {
  "kernelspec": {
   "display_name": "base",
   "language": "python",
   "name": "python3"
  },
  "language_info": {
   "codemirror_mode": {
    "name": "ipython",
    "version": 3
   },
   "file_extension": ".py",
   "mimetype": "text/x-python",
   "name": "python",
   "nbconvert_exporter": "python",
   "pygments_lexer": "ipython3",
   "version": "3.10.9"
  },
  "orig_nbformat": 4
 },
 "nbformat": 4,
 "nbformat_minor": 2
}
