{
 "cells": [
  {
   "cell_type": "code",
   "execution_count": 1,
   "metadata": {},
   "outputs": [],
   "source": [
    "# importing all necessary libraries\n",
    "\n",
    "import pandas as pd\n",
    "import numpy as np\n",
    "import nibabel as nib\n",
    "import matplotlib.pyplot as plt\n",
    "import scipy.ndimage as ndi\n",
    "from nilearn import plotting\n",
    "import os"
   ]
  },
  {
   "cell_type": "code",
   "execution_count": 2,
   "metadata": {},
   "outputs": [],
   "source": [
    "# creating a function which will take raw data, mask data, new file path\n",
    "\n",
    "def update_header_and_save(raw_filepath, mask_filepath, new_mask_filepath):\n",
    "    raw_img = nib.load(raw_filepath)\n",
    "    mask_img = nib.load(mask_filepath)\n",
    "\n",
    "    # values to be updated\n",
    "    attributes = ['extents', 'dim_info', 'slice_end', 'cal_max', 'cal_min', \n",
    "                  'glmax', 'glmin', 'srow_x', 'srow_y', 'srow_z']\n",
    "\n",
    "    # copying header and updating each val in attributes according to raw_img\n",
    "    header = mask_img.header.copy()\n",
    "    for attr in attributes:\n",
    "        header[attr] = raw_img.header[attr]\n",
    "\n",
    "    # create new vox\n",
    "    new_affine = np.eye(4)\n",
    "    new_affine[:-1, :] = np.array([header['srow_x'], header['srow_y'], header['srow_z']])\n",
    "\n",
    "    # saving an img to new folder\n",
    "    updated_mask_img = nib.Nifti1Image(mask_img.get_fdata(), new_affine, header)\n",
    "    nib.save(updated_mask_img, new_mask_filepath)"
   ]
  },
  {
   "cell_type": "code",
   "execution_count": 3,
   "metadata": {},
   "outputs": [
    {
     "name": "stdout",
     "output_type": "stream",
     "text": [
      "/home/sharapova/test/notebooks\n"
     ]
    }
   ],
   "source": [
    "# allocating current directory\n",
    "!pwd"
   ]
  },
  {
   "cell_type": "code",
   "execution_count": 41,
   "metadata": {},
   "outputs": [
    {
     "data": {
      "text/plain": [
       "'/home/sharapova/test/data/processed_with_newweight_3006/'"
      ]
     },
     "execution_count": 41,
     "metadata": {},
     "output_type": "execute_result"
    }
   ],
   "source": [
    "data_dir = '/home/sharapova/test/data/processed_with_newweight_3006/'\n",
    "data_dir"
   ]
  },
  {
   "cell_type": "code",
   "execution_count": 42,
   "metadata": {},
   "outputs": [
    {
     "name": "stdout",
     "output_type": "stream",
     "text": [
      "/home/sharapova/test/data/processed_with_newweight_3006/raw_data\n",
      "/home/sharapova/test/data/processed_with_newweight_3006/mask\n",
      "/home/sharapova/test/data/processed_with_newweight_3006/new_mask_noise\n"
     ]
    }
   ],
   "source": [
    "raw_dir = os.path.join(data_dir, 'raw_data')\n",
    "print(raw_dir)\n",
    "mask_dir = os.path.join(data_dir, 'mask')\n",
    "print(mask_dir)\n",
    "new_mask_dir = os.path.join(data_dir, 'new_mask_noise')\n",
    "print(new_mask_dir)"
   ]
  },
  {
   "cell_type": "code",
   "execution_count": 43,
   "metadata": {},
   "outputs": [
    {
     "data": {
      "text/plain": [
       "52"
      ]
     },
     "execution_count": 43,
     "metadata": {},
     "output_type": "execute_result"
    }
   ],
   "source": [
    "raw_files = os.listdir(raw_dir)\n",
    "len(raw_files)"
   ]
  },
  {
   "cell_type": "code",
   "execution_count": 44,
   "metadata": {},
   "outputs": [],
   "source": [
    "for raw_file in raw_files:\n",
    "    raw_filepath = os.path.join(raw_dir, raw_file)\n",
    "    mask_filepath = os.path.join(mask_dir, raw_file)\n",
    "    new_mask_filepath = os.path.join(new_mask_dir, os.path.splitext(raw_file)[0] + '_mask.nii')\n",
    "    update_header_and_save(raw_filepath, mask_filepath, new_mask_filepath)"
   ]
  },
  {
   "attachments": {},
   "cell_type": "markdown",
   "metadata": {},
   "source": [
    "# Testing new function which will removing outside noise"
   ]
  },
  {
   "cell_type": "code",
   "execution_count": 34,
   "metadata": {},
   "outputs": [],
   "source": [
    "from scipy.ndimage import generate_binary_structure\n",
    "from skimage.morphology import label, opening\n",
    "from skimage.measure import regionprops\n",
    "import numpy as np\n",
    "import nibabel as nib\n",
    "import cv2 as cv\n",
    "\n",
    "def clean_mask_advanced(mask, volume_threshold=500, opening_size=0.9):\n",
    "    selem = generate_binary_structure(3, 2)\n",
    "    mask_opened = opening(mask, selem)\n",
    "\n",
    "    labeled_mask = label(mask_opened)\n",
    "\n",
    "    # Identify regions above the volume threshold\n",
    "    regions = regionprops(labeled_mask)\n",
    "    large_regions = [r for r in regions if r.area > volume_threshold]\n",
    "\n",
    "    # Create a clean mask\n",
    "    cleaned_mask = np.zeros_like(mask)\n",
    "    for region in large_regions:\n",
    "        cleaned_mask[labeled_mask == region.label] = 1\n",
    "\n",
    "    return cleaned_mask\n",
    "\n",
    "def update_header_and_save(raw_filepath, mask_filepath, new_mask_filepath):\n",
    "    raw_img = nib.load(raw_filepath)\n",
    "    mask_img = nib.load(mask_filepath)\n",
    "\n",
    "    mask_data = mask_img.get_fdata()\n",
    "    cleaned_mask = clean_mask_advanced(mask_data)\n",
    "\n",
    "    for i in range(cleaned_mask.shape[2]):\n",
    "\n",
    "        slice_img = cleaned_mask[:, :, i]\n",
    "    \n",
    "        slice_img_8bit = cv.normalize(slice_img, None, 0, 255, cv.NORM_MINMAX).astype('uint8')\n",
    "\n",
    "        kernel = np.ones((5, 5), np.uint8)\n",
    "        closing = cv.morphologyEx(slice_img_8bit, cv.MORPH_CLOSE, kernel)\n",
    "\n",
    "        cleaned_mask[:, :, i] = closing\n",
    "\n",
    "    # values to update\n",
    "    attributes = ['extents', 'dim_info', 'slice_end', 'cal_max', 'cal_min', \n",
    "                  'glmax', 'glmin', 'srow_x', 'srow_y', 'srow_z']\n",
    "\n",
    "    header = mask_img.header.copy()\n",
    "    for attr in attributes:\n",
    "        header[attr] = raw_img.header[attr]\n",
    "\n",
    "    new_affine = np.eye(4)\n",
    "    new_affine[:-1, :] = np.array([header['srow_x'], header['srow_y'], header['srow_z']])\n",
    "\n",
    "    # saving an img to new folder\n",
    "    updated_mask_img = nib.Nifti1Image(cleaned_mask, new_affine, header)\n",
    "    nib.save(updated_mask_img, new_mask_filepath)"
   ]
  },
  {
   "cell_type": "code",
   "execution_count": 40,
   "metadata": {},
   "outputs": [],
   "source": [
    "for raw_file in raw_files:\n",
    "    raw_filepath = os.path.join(raw_dir, raw_file)\n",
    "    mask_filepath = os.path.join(mask_dir, raw_file)\n",
    "    new_mask_filepath = os.path.join(new_mask_dir, os.path.splitext(raw_file)[0] + '_mask.nii')\n",
    "    update_header_and_save(raw_filepath, mask_filepath, new_mask_filepath)"
   ]
  },
  {
   "cell_type": "code",
   "execution_count": null,
   "metadata": {},
   "outputs": [],
   "source": []
  },
  {
   "cell_type": "code",
   "execution_count": null,
   "metadata": {},
   "outputs": [],
   "source": []
  },
  {
   "cell_type": "code",
   "execution_count": null,
   "metadata": {},
   "outputs": [],
   "source": []
  }
 ],
 "metadata": {
  "kernelspec": {
   "display_name": "base",
   "language": "python",
   "name": "python3"
  },
  "language_info": {
   "codemirror_mode": {
    "name": "ipython",
    "version": 3
   },
   "file_extension": ".py",
   "mimetype": "text/x-python",
   "name": "python",
   "nbconvert_exporter": "python",
   "pygments_lexer": "ipython3",
   "version": "3.10.9"
  },
  "orig_nbformat": 4
 },
 "nbformat": 4,
 "nbformat_minor": 2
}
